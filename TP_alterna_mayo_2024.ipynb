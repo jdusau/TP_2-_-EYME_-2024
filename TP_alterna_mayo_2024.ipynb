{
  "nbformat": 4,
  "nbformat_minor": 0,
  "metadata": {
    "colab": {
      "provenance": []
    },
    "kernelspec": {
      "name": "python3",
      "display_name": "Python 3"
    },
    "language_info": {
      "name": "python"
    }
  },
  "cells": [
    {
      "cell_type": "code",
      "execution_count": null,
      "metadata": {
        "id": "5JMqTMtzXu8h"
      },
      "outputs": [],
      "source": []
    },
    {
      "cell_type": "code",
      "source": [
        "import numpy as np\n",
        "\n",
        "# Solicitar al usuario que introduzca los valores necesarios\n",
        "V = 220\n",
        "R1 = 1\n",
        "R2 = 10\n",
        "R3 = 50\n",
        "L = 0.0318\n",
        "C = 0.159e-3  #0.001\n",
        "f = 50\n",
        "\n",
        "# Convertir la frecuencia a radianes por segundo\n",
        "w = 2 * np.pi * f\n",
        "\n",
        "# Calcular la impedancia del inductor y el capacitor\n",
        "Z_L = R2 + 1j * w * L  # Impedancia del inductor + resistencia R3 en serie\n",
        "Z_C = 1 / (1j * w * C)  # Impedancia del capacitor\n",
        "\n",
        "# Calcular la impedancia equivalente del paralelo entre Z_L, Z_C y R3\n",
        "#Z_paralelo = 1 / (1/Z_L +1/Z_C+ 1/R3)\n",
        "Z_paralelo = 1 / (1/Z_L + 1/R3)\n",
        "\n",
        "# Calcular la impedancia total en serie con R1\n",
        "Z_total = R1 + Z_paralelo\n",
        "\n",
        "# Calcular la corriente total en el circuito\n",
        "I = V / Z_total\n",
        "# Calcular el ángulo de la corriente en grados\n",
        "angulo_I = np.angle(I, deg=True)\n",
        "\n",
        "# Imprimir la magnitud de la corriente\n",
        "print(\"La magnitud de la corriente que circula por la resistencia R1 es:\", abs(I), \"amperios\")\n",
        "print(\"El ángulo de la corriente es:\", angulo_I, \"grados\")\n",
        "print(\"La impedancia equivalente del paralelo es:\", Z_paralelo, \"ohmios\")\n",
        "print(\"La magnitud impedancia equivalente del paralelo es:\", abs(Z_paralelo), \"ohmios\")\n"
      ],
      "metadata": {
        "colab": {
          "base_uri": "https://localhost:8080/"
        },
        "id": "OaVm2sTC3B7J",
        "outputId": "f83b4d2d-7009-4a2f-ecc2-0f77fce2fd7a"
      },
      "execution_count": null,
      "outputs": [
        {
          "output_type": "stream",
          "name": "stdout",
          "text": [
            "La magnitud de la corriente que circula por la resistencia R1 es: 17.675079425694953 amperios\n",
            "El ángulo de la corriente es: -32.84351621893461 grados\n",
            "La impedancia equivalente del paralelo es: (9.457326997540022+6.750533874055339j) ohmios\n",
            "La magnitud impedancia equivalente del paralelo es: 11.619412270987201 ohmios\n"
          ]
        }
      ]
    },
    {
      "cell_type": "code",
      "source": [],
      "metadata": {
        "id": "7R9_AfXbetPh"
      },
      "execution_count": null,
      "outputs": []
    },
    {
      "cell_type": "code",
      "source": [
        "import numpy as np\n",
        "\n",
        "# CALCULO DEL CIRCUITO SIN CAPACITOR\n",
        "# Solicitar al usuario que introduzca los valores necesarios\n",
        "V = 220\n",
        "R1 = 1\n",
        "R2 = 10\n",
        "R3 = 50\n",
        "L = 0.0318\n",
        "f = 50\n",
        "\n",
        "# Convertir la frecuencia a radianes por segundo\n",
        "w = 2 * np.pi * f\n",
        "\n",
        "# Calcular la impedancia del inductor y el capacitor\n",
        "Z_L = R2 + 1j * w * L  # Impedancia del inductor + resistencia R2 en serie\n",
        "\n",
        "# Calcular la impedancia equivalente del paralelo entre Z_L, Z_C y R3\n",
        "Z_paralelo = 1 / (1/Z_L + 1/R3)\n",
        "\n",
        "# Calcular la impedancia total en serie con R1\n",
        "Z_total = R1 + Z_paralelo\n",
        "\n",
        "# Calcular la corriente total en el circuito\n",
        "I = V / Z_total\n",
        "\n",
        "# Calcular el ángulo de la corriente total en grados\n",
        "angulo_I = np.angle(I, deg=True)\n",
        "\n",
        "# Calcular la caída de tensión en Z_paralelo\n",
        "V_paralelo = V - I * R1\n",
        "\n",
        "# Convertir la caída de tensión a forma polar\n",
        "V_paralelo_magnitud = abs(V_paralelo)\n",
        "V_paralelo_angulo = np.angle(V_paralelo, deg=True)\n",
        "\n",
        "# Calcular la corriente en Z_L y Z_C\n",
        "I_Z_L = V_paralelo / Z_L\n",
        "# Convertir la corriente a forma polar\n",
        "I_Z_L_magnitud = abs(I_Z_L)\n",
        "I_Z_L_angulo = np.angle(I_Z_L, deg=True)\n",
        "\n",
        "# Calcular la corriente en R3\n",
        "I_R3 = V_paralelo / R3\n",
        "# Convertir la corriente a forma polar\n",
        "I_R3_magnitud = abs(I_R3)\n",
        "I_R3_angulo = np.angle(I_R3, deg=True)\n",
        "\n",
        "# Calcular la potencia reactiva en el inductor y el capacitor\n",
        "Q_L = (I_Z_L_magnitud**2) * w * L\n",
        "\n",
        "# Calcular el valor del capacitor\n",
        "C1 = Q_L / (w * V_paralelo_magnitud**2)\n",
        "\n",
        "\n",
        "# Imprimir la magnitud de la corriente, ángulo, y caída de tensión en Z_paralelo\n",
        "print(\"La magnitud de la corriente que circula por la resistencia R1 es:\", abs(I), \"amperios\")\n",
        "print(\"El ángulo de la corriente es:\", angulo_I, \"grados\")\n",
        "print(\"La impedancia equivalente del paralelo es:\", Z_paralelo, \"ohmios\")\n",
        "print(\"La magnitud de la impedancia equivalente del paralelo es:\", abs(Z_paralelo), \"ohmios\")\n",
        "print(\"La caída de tensión en la impedancia equivalente del paralelo es:\", V_paralelo_magnitud, \"voltios\")\n",
        "print(\"El ángulo de la caída de tensión en la impedancia equivalente del paralelo es:\", V_paralelo_angulo, \"grados\")\n",
        "\n",
        "# Imprimir la corriente en Z_L\n",
        "print(\"La magnitud de la corriente en Z_L es:\", I_Z_L_magnitud, \"amperios\")\n",
        "print(\"El ángulo de la corriente en Z_L es:\", I_Z_L_angulo, \"grados\")\n",
        "\n",
        "# Imprimir la corriente en R3\n",
        "print(\"La magnitud de la corriente en R3 es:\", I_R3_magnitud, \"amperios\")\n",
        "print(\"El ángulo de la corriente en R3 es:\", I_R3_angulo, \"grados\")\n",
        "\n",
        "# Imprimir la potencia reactiva en el inductor y el capacitor\n",
        "print(\"La potencia reactiva en el inductor es:\", Q_L, \"VAR\")\n",
        "\n",
        "# Imprimir el valor del capacitor necesario\n",
        "print(\"El valor del capacitor necesario para minimizar la potencia disipada en R1 es:\", C1, \"faradios\")\n",
        "\n",
        "\n",
        "\n"
      ],
      "metadata": {
        "colab": {
          "base_uri": "https://localhost:8080/"
        },
        "id": "Es7U7DX2ixfw",
        "outputId": "702a1a0e-2892-47d5-ea3b-1489673b9676"
      },
      "execution_count": null,
      "outputs": [
        {
          "output_type": "stream",
          "name": "stdout",
          "text": [
            "La magnitud de la corriente que circula por la resistencia R1 es: 17.675079425694953 amperios\n",
            "El ángulo de la corriente es: -32.84351621893461 grados\n",
            "La impedancia equivalente del paralelo es: (9.457326997540022+6.750533874055339j) ohmios\n",
            "La magnitud de la impedancia equivalente del paralelo es: 11.619412270987201 ohmios\n",
            "La caída de tensión en la impedancia equivalente del paralelo es: 205.37403476959335 voltios\n",
            "El ángulo de la caída de tensión en la impedancia equivalente del paralelo es: 2.6753038006254672 grados\n",
            "La magnitud de la corriente en Z_L es: 14.529207899007341 amperios\n",
            "El ángulo de la corriente en Z_L es: -42.29679286258463 grados\n",
            "La magnitud de la corriente en R3 es: 4.1074806953918666 amperios\n",
            "El ángulo de la corriente en R3 es: 2.6753038006254672 grados\n",
            "La potencia reactiva en el inductor es: 2108.9237075131095 VAR\n",
            "El valor del capacitor necesario para minimizar la potencia disipada en R1 es: 0.000159154867597083 faradios\n"
          ]
        }
      ]
    },
    {
      "cell_type": "code",
      "source": [
        "import numpy as np\n",
        "\n",
        "# CALCULO DEL CIRCUITO CON CAPACITOR\n",
        "# Solicitar al usuario que introduzca los valores necesarios\n",
        "V = 220\n",
        "R1 = 1\n",
        "R2 = 10\n",
        "R3 = 50\n",
        "L = 0.0318\n",
        "C = 0.000159154867597083 #0.159e-3\n",
        "f = 50\n",
        "\n",
        "# Convertir la frecuencia a radianes por segundo\n",
        "w = 2 * np.pi * f\n",
        "\n",
        "# Calcular la impedancia del inductor y el capacitor\n",
        "Z_L = R2 + 1j * w * L  # Impedancia del inductor + resistencia R2 en serie\n",
        "Z_C = 1 / (1j * w * C)  # Impedancia del capacitor\n",
        "\n",
        "# Calcular la impedancia equivalente del paralelo entre Z_L, Z_C y R3\n",
        "Z_paralelo = 1 / (1/Z_L + 1/Z_C + 1/R3)\n",
        "\n",
        "# Calcular la impedancia total en serie con R1\n",
        "Z_total = R1 + Z_paralelo\n",
        "\n",
        "# Calcular la corriente total en el circuito\n",
        "I = V / Z_total\n",
        "\n",
        "# Calcular el ángulo de la corriente total en grados\n",
        "angulo_I = np.angle(I, deg=True)\n",
        "\n",
        "# Calcular la caída de tensión en Z_paralelo\n",
        "V_paralelo = V - I * R1\n",
        "\n",
        "# Convertir la caída de tensión a forma polar\n",
        "V_paralelo_magnitud = abs(V_paralelo)\n",
        "V_paralelo_angulo = np.angle(V_paralelo, deg=True)\n",
        "\n",
        "# Calcular la corriente en Z_L y Z_C\n",
        "I_Z_L = V_paralelo / Z_L\n",
        "I_Z_C = V_paralelo / Z_C\n",
        "\n",
        "# Convertir la corriente a forma polar\n",
        "I_Z_L_magnitud = abs(I_Z_L)\n",
        "I_Z_L_angulo = np.angle(I_Z_L, deg=True)\n",
        "\n",
        "I_Z_C_magnitud = abs(I_Z_C)\n",
        "I_Z_C_angulo = np.angle(I_Z_C, deg=True)\n",
        "\n",
        "# Calcular la potencia reactiva en el inductor y el capacitor\n",
        "Q_L = (I_Z_L_magnitud**2) * w * L\n",
        "Q_C = (I_Z_C_magnitud**2) * (1/(w * C))\n",
        "\n",
        "# Imprimir la magnitud de la corriente, ángulo, y caída de tensión en Z_paralelo\n",
        "print(\"La magnitud de la corriente que circula por la resistencia R1 es:\", abs(I), \"amperios\")\n",
        "print(\"El ángulo de la corriente es:\", angulo_I, \"grados\")\n",
        "print(\"La impedancia equivalente del paralelo es:\", Z_paralelo, \"ohmios\")\n",
        "print(\"La magnitud de la impedancia equivalente del paralelo es:\", abs(Z_paralelo), \"ohmios\")\n",
        "print(\"La caída de tensión en la impedancia equivalente del paralelo es:\", V_paralelo_magnitud, \"voltios\")\n",
        "print(\"El ángulo de la caída de tensión en la impedancia equivalente del paralelo es:\", V_paralelo_angulo, \"grados\")\n",
        "\n",
        "# Imprimir la corriente en Z_L\n",
        "print(\"La magnitud de la corriente en Z_L es:\", I_Z_L_magnitud, \"amperios\")\n",
        "print(\"El ángulo de la corriente en Z_L es:\", I_Z_L_angulo, \"grados\")\n",
        "\n",
        "# Imprimir la corriente en Z_C\n",
        "print(\"La magnitud de la corriente en Z_C es:\", I_Z_C_magnitud, \"amperios\")\n",
        "print(\"El ángulo de la corriente en Z_C es:\", I_Z_C_angulo, \"grados\")\n",
        "\n",
        "# Imprimir la potencia reactiva en el inductor y el capacitor\n",
        "print(\"La potencia reactiva en el inductor es:\", Q_L, \"VAR\")\n",
        "print(\"La potencia reactiva en el capacitor es:\", Q_C, \"VAR\")\n"
      ],
      "metadata": {
        "colab": {
          "base_uri": "https://localhost:8080/"
        },
        "id": "iGMW3q9Hj624",
        "outputId": "55688673-a8e7-4cd8-f6c3-1e2d7b16db4a"
      },
      "execution_count": null,
      "outputs": [
        {
          "output_type": "stream",
          "name": "stdout",
          "text": [
            "La magnitud de la corriente que circula por la resistencia R1 es: 14.401881057616347 amperios\n",
            "El ángulo de la corriente es: 1.0608140138963013e-14 grados\n",
            "La impedancia equivalente del paralelo es: (14.275782317592071-2.8282648553600636e-15j) ohmios\n",
            "La magnitud de la impedancia equivalente del paralelo es: 14.275782317592071 ohmios\n",
            "La caída de tensión en la impedancia equivalente del paralelo es: 205.59811894238365 voltios\n",
            "El ángulo de la caída de tensión en la impedancia equivalente del paralelo es: -7.430864314798765e-16 grados\n",
            "La magnitud de la corriente en Z_L es: 14.5450607576075 amperios\n",
            "El ángulo de la corriente en Z_L es: -44.97209666321009 grados\n",
            "La magnitud de la corriente en Z_C es: 10.27990107086743 amperios\n",
            "El ángulo de la corriente en Z_C es: 90.0 grados\n",
            "La potencia reactiva en el inductor es: 2113.528323084138 VAR\n",
            "La potencia reactiva en el capacitor es: 2113.5283230841387 VAR\n"
          ]
        }
      ]
    }
  ]
}